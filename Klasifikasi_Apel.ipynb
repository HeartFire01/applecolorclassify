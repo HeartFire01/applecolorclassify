{
 "cells": [
  {
   "cell_type": "markdown",
   "id": "273fc8a0-6374-4624-83f0-e0d803ad868a",
   "metadata": {},
   "source": [
    "## Klasifikasi Warna Apel\n",
    "\n",
    "---\n",
    "\n",
    "Program ini bertujuan untuk mengklasifikasikan warna pada apel. Adapun model yang digunakan yakni YOLOv5\n",
    "\n",
    "---\n",
    "\n",
    "*   **Repo Link** : https://github.com/HeartFire01/applecolorclassify"
   ]
  },
  {
   "cell_type": "code",
   "execution_count": 1,
   "id": "ed227ca0-ce66-4645-8507-059718d9352b",
   "metadata": {},
   "outputs": [],
   "source": [
    "import torch\n",
    "import cv2\n",
    "import numpy as np\n",
    "import matplotlib.pyplot as plt\n",
    "\n",
    "# Deklarasi fungsi untuk klasifikasi warna\n",
    "def classify_apple_color(cropped_apple):\n",
    "    \n",
    "    hsv_image = cv2.cvtColor(cropped_apple, cv2.COLOR_RGB2HSV)\n",
    "\n",
    "    # Range warna untuk merah, kuning, dan hijau dalam ruang warna HSV\n",
    "    lower_red1 = np.array([0, 120, 70])\n",
    "    upper_red1 = np.array([10, 255, 255])\n",
    "    lower_red2 = np.array([170, 120, 70])\n",
    "    upper_red2 = np.array([180, 255, 255])\n",
    "\n",
    "    lower_yellow = np.array([20, 100, 100])\n",
    "    upper_yellow = np.array([40, 255, 255])\n",
    "\n",
    "    # Range hijau diperbarui untuk mendeteksi lebih banyak variasi hijau\n",
    "    lower_green = np.array([35, 40, 40])  \n",
    "    upper_green = np.array([90, 255, 255])\n",
    "\n",
    "    # Membuat mask untuk masing-masing warna\n",
    "    red_mask1 = cv2.inRange(hsv_image, lower_red1, upper_red1)\n",
    "    red_mask2 = cv2.inRange(hsv_image, lower_red2, upper_red2)\n",
    "    yellow_mask = cv2.inRange(hsv_image, lower_yellow, upper_yellow)\n",
    "    green_mask = cv2.inRange(hsv_image, lower_green, upper_green)\n",
    "\n",
    "    # Mengecek area dari setiap masker untuk menentukan warna\n",
    "    red_area = np.sum(red_mask1) + np.sum(red_mask2)\n",
    "    yellow_area = np.sum(yellow_mask)\n",
    "    green_area = np.sum(green_mask)\n",
    "\n",
    "    # Menentukan warna berdasarkan area masker yang terbesar\n",
    "    if green_area > red_area and green_area > yellow_area:\n",
    "        return 'green'\n",
    "    elif red_area > yellow_area:\n",
    "        return 'red'\n",
    "    else:\n",
    "        return 'yellow'"
   ]
  },
  {
   "cell_type": "markdown",
   "id": "75aea98c-59e8-4e3b-ad81-d763077bec75",
   "metadata": {},
   "source": [
    "### Load model YOLOv5"
   ]
  },
  {
   "cell_type": "code",
   "execution_count": 2,
   "id": "270b5863-756a-4398-902e-b98fb28c01cf",
   "metadata": {},
   "outputs": [
    {
     "name": "stderr",
     "output_type": "stream",
     "text": [
      "Using cache found in /home/purba/.cache/torch/hub/ultralytics_yolov5_master\n",
      "YOLOv5 🚀 2025-1-16 Python-3.9.20 torch-2.5.1+cu121 CUDA:0 (NVIDIA GeForce RTX 4060 Laptop GPU, 8188MiB)\n",
      "\n",
      "Fusing layers... \n",
      "YOLOv5s summary: 213 layers, 7225885 parameters, 0 gradients, 16.4 GFLOPs\n",
      "Adding AutoShape... \n",
      "/home/purba/.cache/torch/hub/ultralytics_yolov5_master/models/common.py:894: FutureWarning: `torch.cuda.amp.autocast(args...)` is deprecated. Please use `torch.amp.autocast('cuda', args...)` instead.\n",
      "  with amp.autocast(autocast):\n"
     ]
    }
   ],
   "source": [
    "\n",
    "# Memuat model YOLOv5\n",
    "model = torch.hub.load('ultralytics/yolov5', 'yolov5s')\n",
    "\n",
    "# Memuat citra\n",
    "image_path = '/home/purba/ai_assignment_20230726_classify.jpeg'  # Ganti dengan path gambar Anda\n",
    "img = cv2.imread(image_path)\n",
    "\n",
    "# Melakukan inferensi menggunakan model YOLOv5\n",
    "results = model(img)"
   ]
  },
  {
   "cell_type": "markdown",
   "id": "5d4cfaa8-afa4-4eba-9ff4-5c2fed6cbf0b",
   "metadata": {},
   "source": [
    "### Pembuatan bounding box dan labels"
   ]
  },
  {
   "cell_type": "code",
   "execution_count": 3,
   "id": "99dba143-d744-4314-8e41-c6931d29083d",
   "metadata": {},
   "outputs": [
    {
     "name": "stdout",
     "output_type": "stream",
     "text": [
      "Gambar apel yang telah dipotong disimpan: ['yellow_1.jpg', 'yellow_2.jpg', 'red_3.jpg', 'red_4.jpg', 'red_5.jpg', 'yellow_6.jpg', 'yellow_7.jpg', 'yellow_8.jpg', 'yellow_9.jpg', 'yellow_10.jpg', 'red_11.jpg', 'red_12.jpg', 'yellow_13.jpg', 'yellow_14.jpg', 'red_15.jpg', 'red_16.jpg', 'yellow_17.jpg', 'yellow_18.jpg', 'red_19.jpg', 'yellow_20.jpg', 'yellow_21.jpg', 'red_22.jpg']\n"
     ]
    }
   ],
   "source": [
    "\n",
    "boxes = results.xywh[0][:, :-1].cpu().numpy()  \n",
    "labels = results.xywh[0][:, -1].cpu().numpy()  \n",
    "img_rgb = cv2.cvtColor(img, cv2.COLOR_BGR2RGB)\n",
    "\n",
    "output_images = []\n",
    "\n",
    "for i, (box, label) in enumerate(zip(boxes, labels)):\n",
    "\n",
    "    x_center, y_center, w, h = box[:4]\n",
    "\n",
    "    x1 = int(x_center - w / 2)\n",
    "    y1 = int(y_center - h / 2)\n",
    "    \n",
    "\n",
    "    x1 = max(0, x1)\n",
    "    y1 = max(0, y1)\n",
    "    x2 = int(x1 + w)\n",
    "    y2 = int(y1 + h)\n",
    "\n",
    "    \n",
    "    cropped_apple = img_rgb[y1:y2, x1:x2]\n",
    "\n",
    "\n",
    "    apple_color = classify_apple_color(cropped_apple)\n",
    "\n",
    "   \n",
    "    output_filename = f\"{apple_color}_{i+1}.jpg\"\n",
    "    output_images.append(output_filename)\n",
    "    cv2.imwrite(output_filename, cv2.cvtColor(cropped_apple, cv2.COLOR_RGB2BGR))\n",
    "\n",
    "\n",
    "    plt.imshow(cropped_apple)\n",
    "    plt.axis('off')\n",
    "    plt.title(f\"{apple_color}_{i+1}\")\n",
    "    plt.show()\n",
    "\n",
    "print(\"Gambar apel yang telah dipotong disimpan:\", output_images)\n"
   ]
  },
  {
   "cell_type": "code",
   "execution_count": null,
   "id": "b5000f68-1f35-455c-90e7-540c1e796717",
   "metadata": {},
   "outputs": [],
   "source": []
  }
 ],
 "metadata": {
  "kernelspec": {
   "display_name": "Python 3 (ipykernel)",
   "language": "python",
   "name": "python3"
  },
  "language_info": {
   "codemirror_mode": {
    "name": "ipython",
    "version": 3
   },
   "file_extension": ".py",
   "mimetype": "text/x-python",
   "name": "python",
   "nbconvert_exporter": "python",
   "pygments_lexer": "ipython3",
   "version": "3.9.20"
  }
 },
 "nbformat": 4,
 "nbformat_minor": 5
}
